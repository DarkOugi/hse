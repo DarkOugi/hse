{
 "cells": [
  {
   "cell_type": "markdown",
   "source": [
    "# Z статистика и стандартизированное распределение\n",
    "\n",
    "Описание данных\n",
    "– name — оригинальное имя персонажа вселенной Marvel\n",
    "– align — принадлежность персонажа к доброй/злой/нейтральной стороне\n",
    "– eye — описание глаз персонажа\n",
    "– hair — описание волос персонажа\n",
    "– sex — пол персонажа\n",
    "– appearances — количество появлений персонажа\n",
    "– first_appearance — год первого появления персонажа\n"
   ],
   "metadata": {
    "collapsed": false
   }
  },
  {
   "cell_type": "code",
   "execution_count": 1,
   "metadata": {
    "collapsed": true
   },
   "outputs": [],
   "source": [
    "import pandas as pd\n",
    "import numpy as np"
   ]
  },
  {
   "cell_type": "code",
   "execution_count": 2,
   "outputs": [
    {
     "data": {
      "text/plain": "                                  name                 align            eye  \\\n0            Spider-Man (Peter Parker)       Добрый персонаж    Карие глаза   \n1      Captain America (Steven Rogers)       Добрый персонаж  Голубые глаза   \n2  Wolverine (James \\\"Logan\\\" Howlett)  Нейтральный персонаж  Голубые глаза   \n3    Iron Man (Anthony \\\"Tony\\\" Stark)       Добрый персонаж  Голубые глаза   \n4                  Thor (Thor Odinson)       Добрый персонаж  Голубые глаза   \n\n                hair               sex  appearances  first_appearance  \n0  Каштановые волосы  Мужской персонаж       4043.0            1962.0  \n1       Белые волосы  Мужской персонаж       3360.0            1941.0  \n2      Черные волосы  Мужской персонаж       3061.0            1974.0  \n3      Черные волосы  Мужской персонаж       2961.0            1963.0  \n4       Русые волосы  Мужской персонаж       2258.0            1950.0  ",
      "text/html": "<div>\n<style scoped>\n    .dataframe tbody tr th:only-of-type {\n        vertical-align: middle;\n    }\n\n    .dataframe tbody tr th {\n        vertical-align: top;\n    }\n\n    .dataframe thead th {\n        text-align: right;\n    }\n</style>\n<table border=\"1\" class=\"dataframe\">\n  <thead>\n    <tr style=\"text-align: right;\">\n      <th></th>\n      <th>name</th>\n      <th>align</th>\n      <th>eye</th>\n      <th>hair</th>\n      <th>sex</th>\n      <th>appearances</th>\n      <th>first_appearance</th>\n    </tr>\n  </thead>\n  <tbody>\n    <tr>\n      <th>0</th>\n      <td>Spider-Man (Peter Parker)</td>\n      <td>Добрый персонаж</td>\n      <td>Карие глаза</td>\n      <td>Каштановые волосы</td>\n      <td>Мужской персонаж</td>\n      <td>4043.0</td>\n      <td>1962.0</td>\n    </tr>\n    <tr>\n      <th>1</th>\n      <td>Captain America (Steven Rogers)</td>\n      <td>Добрый персонаж</td>\n      <td>Голубые глаза</td>\n      <td>Белые волосы</td>\n      <td>Мужской персонаж</td>\n      <td>3360.0</td>\n      <td>1941.0</td>\n    </tr>\n    <tr>\n      <th>2</th>\n      <td>Wolverine (James \\\"Logan\\\" Howlett)</td>\n      <td>Нейтральный персонаж</td>\n      <td>Голубые глаза</td>\n      <td>Черные волосы</td>\n      <td>Мужской персонаж</td>\n      <td>3061.0</td>\n      <td>1974.0</td>\n    </tr>\n    <tr>\n      <th>3</th>\n      <td>Iron Man (Anthony \\\"Tony\\\" Stark)</td>\n      <td>Добрый персонаж</td>\n      <td>Голубые глаза</td>\n      <td>Черные волосы</td>\n      <td>Мужской персонаж</td>\n      <td>2961.0</td>\n      <td>1963.0</td>\n    </tr>\n    <tr>\n      <th>4</th>\n      <td>Thor (Thor Odinson)</td>\n      <td>Добрый персонаж</td>\n      <td>Голубые глаза</td>\n      <td>Русые волосы</td>\n      <td>Мужской персонаж</td>\n      <td>2258.0</td>\n      <td>1950.0</td>\n    </tr>\n  </tbody>\n</table>\n</div>"
     },
     "execution_count": 2,
     "metadata": {},
     "output_type": "execute_result"
    }
   ],
   "source": [
    "df = pd.read_csv('../dataSet/MarvelComicCaracters.csv', sep=';')\n",
    "df.head()"
   ],
   "metadata": {
    "collapsed": false
   }
  },
  {
   "cell_type": "markdown",
   "source": [
    "Сколько пропущенных значений в переменной appearances? Выберите один верный ответ."
   ],
   "metadata": {
    "collapsed": false
   }
  },
  {
   "cell_type": "code",
   "execution_count": 11,
   "outputs": [
    {
     "data": {
      "text/plain": "1096"
     },
     "execution_count": 11,
     "metadata": {},
     "output_type": "execute_result"
    }
   ],
   "source": [
    "df['name'].size - df[df['appearances'].notnull()].appearances.size"
   ],
   "metadata": {
    "collapsed": false
   }
  },
  {
   "cell_type": "markdown",
   "source": [
    "Укажите, верно ли следующее утверждение: наибольший межквартильный размах по переменной appearances будет для злых персонажей. Вам понадобятся данные по типу персонажа (переменная align), удалите пропущенные значения по столбцу appearances и посчитайте требуемую меру разброса."
   ],
   "metadata": {
    "collapsed": false
   }
  },
  {
   "cell_type": "code",
   "execution_count": 42,
   "outputs": [
    {
     "data": {
      "text/plain": "(5.0, 13.0, 8.0)"
     },
     "execution_count": 42,
     "metadata": {},
     "output_type": "execute_result"
    }
   ],
   "source": [
    "\n",
    "q = dict(df[df['align'].notnull()].groupby('align').describe().unstack())\n",
    "q_bad = q['appearances', '75%', 'Злой персонаж'] - q['appearances', '25%', 'Злой персонаж']\n",
    "q_good = q['appearances', '75%', 'Добрый персонаж'] - q['appearances', '25%', 'Добрый персонаж']\n",
    "q_neutral = q['appearances', '75%', 'Нейтральный персонаж'] - q['appearances', '25%', 'Нейтральный персонаж']\n",
    "q_bad, q_good, q_neutral"
   ],
   "metadata": {
    "collapsed": false
   }
  },
  {
   "cell_type": "markdown",
   "source": [
    "Сколько выбросов встречается по переменной appearances? Работайте с исходными данными, предварительно удалите пропущенные значения по столбцу appearances, используйте для нахождения выбросов межквартильный размах. Выберите один верный ответ."
   ],
   "metadata": {
    "collapsed": false
   }
  },
  {
   "cell_type": "code",
   "execution_count": 86,
   "outputs": [
    {
     "data": {
      "text/plain": "1938"
     },
     "execution_count": 86,
     "metadata": {},
     "output_type": "execute_result"
    }
   ],
   "source": [
    "ap = df[df['appearances'].notnull()]['appearances']\n",
    "ap_q = 1.5 * (ap.describe().loc['75%'] - ap.describe().loc['25%'])\n",
    "ap[(ap > ap.describe().loc['75%']+ap_q) | (ap < ap.describe().loc['25%']-ap_q)].size\n"
   ],
   "metadata": {
    "collapsed": false
   }
  },
  {
   "cell_type": "code",
   "execution_count": 75,
   "outputs": [
    {
     "name": "stdout",
     "output_type": "stream",
     "text": [
      "Добрый персонаж 944\n",
      "Нейтральный персонаж 285\n",
      "Злой персонаж 551\n"
     ]
    }
   ],
   "source": [
    "q = 0\n",
    "for i in df[df['align'].notnull()]['align'].unique():\n",
    "    print(i,df[(df['appearances'] > ap.describe().loc['75%']+ap_q) & (df['appearances'] > ap.describe().loc['25%']-ap_q) & (df['appearances'].notnull()) &(df['align'] == i)]['appearances'].size)\n",
    "\n"
   ],
   "metadata": {
    "collapsed": false
   }
  },
  {
   "cell_type": "code",
   "execution_count": 77,
   "outputs": [
    {
     "name": "stderr",
     "output_type": "stream",
     "text": [
      "C:\\Users\\user\\AppData\\Local\\Temp\\ipykernel_4892\\240148537.py:3: SettingWithCopyWarning: \n",
      "A value is trying to be set on a copy of a slice from a DataFrame.\n",
      "Try using .loc[row_indexer,col_indexer] = value instead\n",
      "\n",
      "See the caveats in the documentation: https://pandas.pydata.org/pandas-docs/stable/user_guide/indexing.html#returning-a-view-versus-a-copy\n",
      "  ap_log['log_appearances'] = ap_log['appearances'].apply(lambda x: log(x))\n"
     ]
    },
    {
     "data": {
      "text/plain": "                                          name                 align  \\\n0                    Spider-Man (Peter Parker)       Добрый персонаж   \n1              Captain America (Steven Rogers)       Добрый персонаж   \n2          Wolverine (James \\\"Logan\\\" Howlett)  Нейтральный персонаж   \n3            Iron Man (Anthony \\\"Tony\\\" Stark)       Добрый персонаж   \n4                          Thor (Thor Odinson)       Добрый персонаж   \n...                                        ...                   ...   \n15275                  Visher-Rakk (Earth-616)         Злой персонаж   \n15276  Weapon Red (Chinese Mutant) (Earth-616)         Злой персонаж   \n15277           Wolfgang von Roehm (Earth-616)  Нейтральный персонаж   \n15278                          Xan (Earth-616)         Злой персонаж   \n15279                       Zamira (Earth-616)       Добрый персонаж   \n\n                     eye               hair               sex  appearances  \\\n0            Карие глаза  Каштановые волосы  Мужской персонаж       4043.0   \n1          Голубые глаза       Белые волосы  Мужской персонаж       3360.0   \n2          Голубые глаза      Черные волосы  Мужской персонаж       3061.0   \n3          Голубые глаза      Черные волосы  Мужской персонаж       2961.0   \n4          Голубые глаза       Русые волосы  Мужской персонаж       2258.0   \n...                  ...                ...               ...          ...   \n15275                NaN                NaN               NaN          1.0   \n15276        Белые глаза      Черные волосы  Мужской персонаж          1.0   \n15277                NaN                NaN  Мужской персонаж          1.0   \n15278       Желтые глаза      Черные волосы  Мужской персонаж          1.0   \n15279  Темно-карие глаза      Черные волосы  Женский персонаж          1.0   \n\n       first_appearance  log_appearances  \n0                1962.0         8.304742  \n1                1941.0         8.119696  \n2                1974.0         8.026497  \n3                1963.0         7.993282  \n4                1950.0         7.722235  \n...                 ...              ...  \n15275               NaN         0.000000  \n15276               NaN         0.000000  \n15277               NaN         0.000000  \n15278               NaN         0.000000  \n15279               NaN         0.000000  \n\n[15280 rows x 8 columns]",
      "text/html": "<div>\n<style scoped>\n    .dataframe tbody tr th:only-of-type {\n        vertical-align: middle;\n    }\n\n    .dataframe tbody tr th {\n        vertical-align: top;\n    }\n\n    .dataframe thead th {\n        text-align: right;\n    }\n</style>\n<table border=\"1\" class=\"dataframe\">\n  <thead>\n    <tr style=\"text-align: right;\">\n      <th></th>\n      <th>name</th>\n      <th>align</th>\n      <th>eye</th>\n      <th>hair</th>\n      <th>sex</th>\n      <th>appearances</th>\n      <th>first_appearance</th>\n      <th>log_appearances</th>\n    </tr>\n  </thead>\n  <tbody>\n    <tr>\n      <th>0</th>\n      <td>Spider-Man (Peter Parker)</td>\n      <td>Добрый персонаж</td>\n      <td>Карие глаза</td>\n      <td>Каштановые волосы</td>\n      <td>Мужской персонаж</td>\n      <td>4043.0</td>\n      <td>1962.0</td>\n      <td>8.304742</td>\n    </tr>\n    <tr>\n      <th>1</th>\n      <td>Captain America (Steven Rogers)</td>\n      <td>Добрый персонаж</td>\n      <td>Голубые глаза</td>\n      <td>Белые волосы</td>\n      <td>Мужской персонаж</td>\n      <td>3360.0</td>\n      <td>1941.0</td>\n      <td>8.119696</td>\n    </tr>\n    <tr>\n      <th>2</th>\n      <td>Wolverine (James \\\"Logan\\\" Howlett)</td>\n      <td>Нейтральный персонаж</td>\n      <td>Голубые глаза</td>\n      <td>Черные волосы</td>\n      <td>Мужской персонаж</td>\n      <td>3061.0</td>\n      <td>1974.0</td>\n      <td>8.026497</td>\n    </tr>\n    <tr>\n      <th>3</th>\n      <td>Iron Man (Anthony \\\"Tony\\\" Stark)</td>\n      <td>Добрый персонаж</td>\n      <td>Голубые глаза</td>\n      <td>Черные волосы</td>\n      <td>Мужской персонаж</td>\n      <td>2961.0</td>\n      <td>1963.0</td>\n      <td>7.993282</td>\n    </tr>\n    <tr>\n      <th>4</th>\n      <td>Thor (Thor Odinson)</td>\n      <td>Добрый персонаж</td>\n      <td>Голубые глаза</td>\n      <td>Русые волосы</td>\n      <td>Мужской персонаж</td>\n      <td>2258.0</td>\n      <td>1950.0</td>\n      <td>7.722235</td>\n    </tr>\n    <tr>\n      <th>...</th>\n      <td>...</td>\n      <td>...</td>\n      <td>...</td>\n      <td>...</td>\n      <td>...</td>\n      <td>...</td>\n      <td>...</td>\n      <td>...</td>\n    </tr>\n    <tr>\n      <th>15275</th>\n      <td>Visher-Rakk (Earth-616)</td>\n      <td>Злой персонаж</td>\n      <td>NaN</td>\n      <td>NaN</td>\n      <td>NaN</td>\n      <td>1.0</td>\n      <td>NaN</td>\n      <td>0.000000</td>\n    </tr>\n    <tr>\n      <th>15276</th>\n      <td>Weapon Red (Chinese Mutant) (Earth-616)</td>\n      <td>Злой персонаж</td>\n      <td>Белые глаза</td>\n      <td>Черные волосы</td>\n      <td>Мужской персонаж</td>\n      <td>1.0</td>\n      <td>NaN</td>\n      <td>0.000000</td>\n    </tr>\n    <tr>\n      <th>15277</th>\n      <td>Wolfgang von Roehm (Earth-616)</td>\n      <td>Нейтральный персонаж</td>\n      <td>NaN</td>\n      <td>NaN</td>\n      <td>Мужской персонаж</td>\n      <td>1.0</td>\n      <td>NaN</td>\n      <td>0.000000</td>\n    </tr>\n    <tr>\n      <th>15278</th>\n      <td>Xan (Earth-616)</td>\n      <td>Злой персонаж</td>\n      <td>Желтые глаза</td>\n      <td>Черные волосы</td>\n      <td>Мужской персонаж</td>\n      <td>1.0</td>\n      <td>NaN</td>\n      <td>0.000000</td>\n    </tr>\n    <tr>\n      <th>15279</th>\n      <td>Zamira (Earth-616)</td>\n      <td>Добрый персонаж</td>\n      <td>Темно-карие глаза</td>\n      <td>Черные волосы</td>\n      <td>Женский персонаж</td>\n      <td>1.0</td>\n      <td>NaN</td>\n      <td>0.000000</td>\n    </tr>\n  </tbody>\n</table>\n<p>15280 rows × 8 columns</p>\n</div>"
     },
     "execution_count": 77,
     "metadata": {},
     "output_type": "execute_result"
    }
   ],
   "source": [
    "from math import log\n",
    "ap_log = df[df['appearances'].notnull()]\n",
    "ap_log['log_appearances'] = ap_log['appearances'].apply(lambda x: log(x))\n",
    "ap_log"
   ],
   "metadata": {
    "collapsed": false
   }
  },
  {
   "cell_type": "code",
   "execution_count": 78,
   "outputs": [
    {
     "data": {
      "text/plain": "count    15280.000000\nmean         1.341357\nstd          1.344447\nmin          0.000000\n25%          0.000000\n50%          1.098612\n75%          2.079442\nmax          8.304742\nName: log_appearances, dtype: float64"
     },
     "execution_count": 78,
     "metadata": {},
     "output_type": "execute_result"
    }
   ],
   "source": [
    "ap_log['log_appearances'].describe()"
   ],
   "metadata": {
    "collapsed": false
   }
  },
  {
   "cell_type": "code",
   "execution_count": 80,
   "outputs": [
    {
     "name": "stderr",
     "output_type": "stream",
     "text": [
      "C:\\Users\\user\\AppData\\Local\\Temp\\ipykernel_4892\\1705339645.py:3: SettingWithCopyWarning: \n",
      "A value is trying to be set on a copy of a slice from a DataFrame.\n",
      "Try using .loc[row_indexer,col_indexer] = value instead\n",
      "\n",
      "See the caveats in the documentation: https://pandas.pydata.org/pandas-docs/stable/user_guide/indexing.html#returning-a-view-versus-a-copy\n",
      "  ap_log['z_appearances']=ap_log['log_appearances'].apply(lambda x: (x-mean)/std)\n"
     ]
    },
    {
     "data": {
      "text/plain": "195"
     },
     "execution_count": 80,
     "metadata": {},
     "output_type": "execute_result"
    }
   ],
   "source": [
    "mean = ap_log['log_appearances'].mean()\n",
    "std = ap_log['log_appearances'].std()\n",
    "ap_log['z_appearances']=ap_log['log_appearances'].apply(lambda x: (x-mean)/std)\n",
    "ap_log[ap_log['z_appearances'] > 3]['z_appearances'].size"
   ],
   "metadata": {
    "collapsed": false
   }
  },
  {
   "cell_type": "markdown",
   "source": [
    "Сколько выбросов получится по переменной appearancs? Работайте с исходными данными, предварительно удалите пропущенные значения по столбцу appearances, используйте для нахождения выбросов три среднеквадратичных отклонения от среднего. Введите ответ в виде целого числа."
   ],
   "metadata": {
    "collapsed": false
   }
  },
  {
   "cell_type": "code",
   "execution_count": 81,
   "outputs": [
    {
     "name": "stderr",
     "output_type": "stream",
     "text": [
      "C:\\Users\\user\\AppData\\Local\\Temp\\ipykernel_4892\\434805349.py:3: SettingWithCopyWarning: \n",
      "A value is trying to be set on a copy of a slice from a DataFrame.\n",
      "Try using .loc[row_indexer,col_indexer] = value instead\n",
      "\n",
      "See the caveats in the documentation: https://pandas.pydata.org/pandas-docs/stable/user_guide/indexing.html#returning-a-view-versus-a-copy\n",
      "  ap_log['z_appearances_not_log'] = ap_log['appearances'].apply(lambda x: (x-mean)/std)\n"
     ]
    },
    {
     "data": {
      "text/plain": "5084"
     },
     "execution_count": 81,
     "metadata": {},
     "output_type": "execute_result"
    }
   ],
   "source": [
    "ap_mean = ap_log['appearances'].mean()\n",
    "ap_std = ap_log['appearances'].std()\n",
    "ap_log['z_appearances_not_log'] = ap_log['appearances'].apply(lambda x: (x-mean)/std)\n",
    "ap_log[ap_log['z_appearances_not_log'] > 3]['z_appearances_not_log'].size"
   ],
   "metadata": {
    "collapsed": false
   }
  },
  {
   "cell_type": "markdown",
   "source": [
    "Сколько выбросов получится по переменной appearancs, если выбраны только женские персонажи? Работайте с исходными данными, выберите женских персонажей, удалите пропущенные значения по столбцу appearancs, используйте для нахождения выбросов z-оценку и три среднеквадратичных отклонения от среднего."
   ],
   "metadata": {
    "collapsed": false
   }
  },
  {
   "cell_type": "code",
   "execution_count": 82,
   "outputs": [
    {
     "data": {
      "text/plain": "1453"
     },
     "execution_count": 82,
     "metadata": {},
     "output_type": "execute_result"
    }
   ],
   "source": [
    "ap_log[(ap_log['z_appearances_not_log'] > 3) & (ap_log['sex']=='Женский персонаж')]['z_appearances_not_log'].size"
   ],
   "metadata": {
    "collapsed": false
   }
  },
  {
   "cell_type": "markdown",
   "source": [
    "Выберите только злых персонажей. Сравните медиану по переменной appearances в двух датафреймах — с выбросами и без выбросов, определенных по межквартильному размаху. В ответ запишите число (наибольшее среднее из двух), округлите до целого."
   ],
   "metadata": {
    "collapsed": false
   }
  },
  {
   "cell_type": "code",
   "execution_count": 91,
   "outputs": [
    {
     "data": {
      "text/plain": "(3.0, 5.0)"
     },
     "execution_count": 91,
     "metadata": {},
     "output_type": "execute_result"
    }
   ],
   "source": [
    "df_bad_person = df[(df['align'] == 'Злой персонаж') & (df['appearances'].notnull())]\n",
    "two,seven = np.percentile(df_bad_person['appearances'],25),np.percentile(df_bad_person['appearances'],25)\n",
    "r = 1.5 * (seven-two)\n",
    "df_with_emissions = df_bad_person[(df_bad_person['appearances']<two-r) | (df_bad_person['appearances']>seven+r)]['appearances'].median()\n",
    "df_without_emissions = df_bad_person['appearances'].median()\n",
    "df_without_emissions,df_with_emissions"
   ],
   "metadata": {
    "collapsed": false
   }
  },
  {
   "cell_type": "markdown",
   "source": [
    "Укажите, верно ли следующее утверждение: в датафрейме для добрых женских персонажей мода по переменной hair не изменится, если удалить выбросы по переменной appearances. Работайте с исходными данными, предварительно удалите пропущенные значения по столбцу appearances, используйте для нахождения выбросов межквартильный размах."
   ],
   "metadata": {
    "collapsed": false
   }
  },
  {
   "cell_type": "code",
   "execution_count": 93,
   "outputs": [
    {
     "data": {
      "text/plain": "(0    Черные волосы\n Name: hair, dtype: object,\n 0    Черные волосы\n Name: hair, dtype: object)"
     },
     "execution_count": 93,
     "metadata": {},
     "output_type": "execute_result"
    }
   ],
   "source": [
    "df_good_person = df[(df['align']=='Добрый персонаж') & (df['appearances'].notnull())]\n",
    "two_good,seven_good = np.percentile(df_good_person['appearances'],25),np.percentile(df_good_person['appearances'],25)\n",
    "r_good = 1.5 * (seven_good-two_good)\n",
    "g_without = df_good_person[(df_good_person['appearances']<two_good-r_good) | (df_good_person['appearances']>seven_good+r_good)]['hair'].mode()\n",
    "g_with = df_good_person['hair'].mode()\n",
    "g_with,g_without"
   ],
   "metadata": {
    "collapsed": false
   }
  },
  {
   "cell_type": "code",
   "execution_count": null,
   "outputs": [],
   "source": [],
   "metadata": {
    "collapsed": false
   }
  }
 ],
 "metadata": {
  "kernelspec": {
   "display_name": "Python 3",
   "language": "python",
   "name": "python3"
  },
  "language_info": {
   "codemirror_mode": {
    "name": "ipython",
    "version": 2
   },
   "file_extension": ".py",
   "mimetype": "text/x-python",
   "name": "python",
   "nbconvert_exporter": "python",
   "pygments_lexer": "ipython2",
   "version": "2.7.6"
  }
 },
 "nbformat": 4,
 "nbformat_minor": 0
}
