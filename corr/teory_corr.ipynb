{
 "cells": [
  {
   "cell_type": "markdown",
   "source": [
    "# Практическая работа, для отработки Корреляции"
   ],
   "metadata": {
    "collapsed": false
   }
  },
  {
   "cell_type": "code",
   "execution_count": 1,
   "metadata": {
    "collapsed": true
   },
   "outputs": [],
   "source": [
    "import pandas as pd\n"
   ]
  },
  {
   "cell_type": "code",
   "execution_count": 8,
   "outputs": [],
   "source": [
    "data = pd.read_csv('../dataSet/ScrabbleGames.csv',parse_dates=['date'])"
   ],
   "metadata": {
    "collapsed": false
   }
  },
  {
   "cell_type": "markdown",
   "source": [
    "Описание данных\n",
    "– gameid — номер игры в скрэббл\n",
    "– tourneyid — номер турнира\n",
    "– tie — игра закончилась вничью\n",
    "– winnerid — порядковый номер победителя\n",
    "– winnername — имя победителя\n",
    "– winnerscore — набранные победителем очки\n",
    "– winneroldrating — рейтинг победителя до игры\n",
    "– winnernewrating — рейтинг победителя после игры\n",
    "– winnerpos — место победителя в турнире\n",
    "– loserid — порядковый номер проигравшего\n",
    "– loserscore — набранные проигравшем очки\n",
    "– loseroldrating — рейтинг проигравшего до игры\n",
    "– losernewrating — рейтинг проигравшего после игры\n",
    "– loserpos — место проигравшего в турнире\n",
    "– round — раунд турнира, в котором проходила игра\n",
    "– division — дивизион турнира, в котором проходила игра\n",
    "– date — дата игры\n",
    "– lexicon — набор слов, который использовался в игре (международный – 1; характерный для Северной Америки – 0)\n",
    "– year — год"
   ],
   "metadata": {
    "collapsed": false
   }
  },
  {
   "cell_type": "code",
   "execution_count": 9,
   "outputs": [
    {
     "name": "stdout",
     "output_type": "stream",
     "text": [
      "<class 'pandas.core.frame.DataFrame'>\n",
      "RangeIndex: 37466 entries, 0 to 37465\n",
      "Data columns (total 20 columns):\n",
      " #   Column           Non-Null Count  Dtype         \n",
      "---  ------           --------------  -----         \n",
      " 0   gameid           37466 non-null  int64         \n",
      " 1   tourneyid        37466 non-null  int64         \n",
      " 2   tie              37466 non-null  int64         \n",
      " 3   winnerid         37466 non-null  int64         \n",
      " 4   winnername       37466 non-null  object        \n",
      " 5   winnerscore      37466 non-null  int64         \n",
      " 6   winneroldrating  37466 non-null  int64         \n",
      " 7   winnernewrating  37466 non-null  int64         \n",
      " 8   winnerpos        37466 non-null  int64         \n",
      " 9   loserid          37466 non-null  int64         \n",
      " 10  losername        37466 non-null  object        \n",
      " 11  loserscore       37466 non-null  int64         \n",
      " 12  loseroldrating   37466 non-null  int64         \n",
      " 13  losernewrating   37466 non-null  int64         \n",
      " 14  loserpos         37466 non-null  int64         \n",
      " 15  round            37466 non-null  int64         \n",
      " 16  division         37466 non-null  int64         \n",
      " 17  date             37466 non-null  datetime64[ns]\n",
      " 18  lexicon          37466 non-null  int64         \n",
      " 19  year             37466 non-null  int64         \n",
      "dtypes: datetime64[ns](1), int64(17), object(2)\n",
      "memory usage: 5.7+ MB\n"
     ]
    }
   ],
   "source": [
    "data.info()"
   ],
   "metadata": {
    "collapsed": false
   }
  },
  {
   "cell_type": "markdown",
   "source": [
    "Сгруппируйте датафрейм по переменной tourneyid, затем определите тип взаимосвязи между средними значениями переменных winnerscore и winnernewrating. Выберите один верный ответ."
   ],
   "metadata": {
    "collapsed": false
   }
  },
  {
   "cell_type": "code",
   "execution_count": 12,
   "outputs": [
    {
     "data": {
      "text/plain": "                 winnerscore  winnernewrating\nwinnerscore         1.000000        -0.604013\nwinnernewrating    -0.604013         1.000000",
      "text/html": "<div>\n<style scoped>\n    .dataframe tbody tr th:only-of-type {\n        vertical-align: middle;\n    }\n\n    .dataframe tbody tr th {\n        vertical-align: top;\n    }\n\n    .dataframe thead th {\n        text-align: right;\n    }\n</style>\n<table border=\"1\" class=\"dataframe\">\n  <thead>\n    <tr style=\"text-align: right;\">\n      <th></th>\n      <th>winnerscore</th>\n      <th>winnernewrating</th>\n    </tr>\n  </thead>\n  <tbody>\n    <tr>\n      <th>winnerscore</th>\n      <td>1.000000</td>\n      <td>-0.604013</td>\n    </tr>\n    <tr>\n      <th>winnernewrating</th>\n      <td>-0.604013</td>\n      <td>1.000000</td>\n    </tr>\n  </tbody>\n</table>\n</div>"
     },
     "execution_count": 12,
     "metadata": {},
     "output_type": "execute_result"
    }
   ],
   "source": [
    "corr = data.groupby('tourneyid')[['winnerscore','winnernewrating']].mean()\n",
    "corr.corr()"
   ],
   "metadata": {
    "collapsed": false
   }
  },
  {
   "cell_type": "markdown",
   "source": [
    "Укажите, верно ли следующее утверждение: очки, набранные победителем, напрямую и сильно зависят от очков, набранных проигравшим. Сгруппируйте датафрейм по переменной tourneyid и посмотрите на средние значения интересующих нас переменных."
   ],
   "metadata": {
    "collapsed": false
   }
  },
  {
   "cell_type": "code",
   "execution_count": 13,
   "outputs": [
    {
     "data": {
      "text/plain": "             winnerscore  loserscore\nwinnerscore     1.000000    0.985757\nloserscore      0.985757    1.000000",
      "text/html": "<div>\n<style scoped>\n    .dataframe tbody tr th:only-of-type {\n        vertical-align: middle;\n    }\n\n    .dataframe tbody tr th {\n        vertical-align: top;\n    }\n\n    .dataframe thead th {\n        text-align: right;\n    }\n</style>\n<table border=\"1\" class=\"dataframe\">\n  <thead>\n    <tr style=\"text-align: right;\">\n      <th></th>\n      <th>winnerscore</th>\n      <th>loserscore</th>\n    </tr>\n  </thead>\n  <tbody>\n    <tr>\n      <th>winnerscore</th>\n      <td>1.000000</td>\n      <td>0.985757</td>\n    </tr>\n    <tr>\n      <th>loserscore</th>\n      <td>0.985757</td>\n      <td>1.000000</td>\n    </tr>\n  </tbody>\n</table>\n</div>"
     },
     "execution_count": 13,
     "metadata": {},
     "output_type": "execute_result"
    }
   ],
   "source": [
    "data[['winnerscore','loserscore']].corr()"
   ],
   "metadata": {
    "collapsed": false
   }
  },
  {
   "cell_type": "markdown",
   "source": [
    "Между какими переменными можно найти интерпретируемый коэффициент корреляции? Выберите один верный ответ."
   ],
   "metadata": {
    "collapsed": false
   }
  },
  {
   "cell_type": "code",
   "execution_count": 20,
   "outputs": [
    {
     "name": "stderr",
     "output_type": "stream",
     "text": [
      "C:\\Users\\user\\AppData\\Local\\Temp\\ipykernel_4976\\1185648202.py:1: FutureWarning: The default value of numeric_only in DataFrame.corr is deprecated. In a future version, it will default to False. Select only valid columns or specify the value of numeric_only to silence this warning.\n",
      "  data.corr()\n"
     ]
    },
    {
     "data": {
      "text/plain": "                   gameid  tourneyid       tie  winnerid  winnerscore  \\\ngameid           1.000000   0.027739  0.011730  0.226863    -0.076119   \ntourneyid        0.027739   1.000000  0.001295  0.039115     0.017727   \ntie              0.011730   0.001295  1.000000 -0.018818    -0.002352   \nwinnerid         0.226863   0.039115 -0.018818  1.000000    -0.045205   \nwinnerscore     -0.076119   0.017727 -0.002352 -0.045205     1.000000   \nwinneroldrating -0.565785  -0.063566  0.004529 -0.423279     0.095746   \nwinnernewrating -0.623378  -0.022334 -0.000327 -0.369051     0.075334   \nwinnerpos        0.026757  -0.155506  0.011076  0.026496     0.005435   \nloserid          0.250447   0.052486  0.012602  0.190702    -0.043951   \nloserscore      -0.075867   0.018043 -0.001386 -0.045269     0.985757   \nloseroldrating  -0.554665  -0.055418  0.005514 -0.340001     0.089424   \nlosernewrating  -0.612148  -0.012234  0.008880 -0.341927     0.075328   \nloserpos         0.031006  -0.174694 -0.002666 -0.011044     0.011664   \nround            0.057056  -0.155245  0.003101 -0.067125     0.038221   \ndivision         0.626632   0.034172 -0.006544  0.246841    -0.078595   \nlexicon               NaN        NaN       NaN       NaN          NaN   \nyear                  NaN        NaN       NaN       NaN          NaN   \n\n                 winneroldrating  winnernewrating  winnerpos   loserid  \\\ngameid                 -0.565785        -0.623378   0.026757  0.250447   \ntourneyid              -0.063566        -0.022334  -0.155506  0.052486   \ntie                     0.004529        -0.000327   0.011076  0.012602   \nwinnerid               -0.423279        -0.369051   0.026496  0.190702   \nwinnerscore             0.095746         0.075334   0.005435 -0.043951   \nwinneroldrating         1.000000         0.836087   0.016586 -0.352453   \nwinnernewrating         0.836087         1.000000   0.014694 -0.359309   \nwinnerpos               0.016586         0.014694   1.000000 -0.005181   \nloserid                -0.352453        -0.359309  -0.005181  1.000000   \nloserscore              0.095344         0.074872   0.006901 -0.044019   \nloseroldrating          0.740348         0.771732   0.048060 -0.467082   \nlosernewrating          0.775428         0.892553   0.088034 -0.405584   \nloserpos                0.066683         0.092622   0.772008  0.025844   \nround                   0.110590         0.112238   0.322588 -0.091991   \ndivision               -0.609908        -0.659330  -0.159694  0.242270   \nlexicon                      NaN              NaN        NaN       NaN   \nyear                         NaN              NaN        NaN       NaN   \n\n                 loserscore  loseroldrating  losernewrating  loserpos  \\\ngameid            -0.075867       -0.554665       -0.612148  0.031006   \ntourneyid          0.018043       -0.055418       -0.012234 -0.174694   \ntie               -0.001386        0.005514        0.008880 -0.002666   \nwinnerid          -0.045269       -0.340001       -0.341927 -0.011044   \nwinnerscore        0.985757        0.089424        0.075328  0.011664   \nwinneroldrating    0.095344        0.740348        0.775428  0.066683   \nwinnernewrating    0.074872        0.771732        0.892553  0.092622   \nwinnerpos          0.006901        0.048060        0.088034  0.772008   \nloserid           -0.044019       -0.467082       -0.405584  0.025844   \nloserscore         1.000000        0.090858        0.076116  0.010405   \nloseroldrating     0.090858        1.000000        0.858149  0.003083   \nlosernewrating     0.076116        0.858149        1.000000  0.028596   \nloserpos           0.010405        0.003083        0.028596  1.000000   \nround              0.038564        0.135149        0.140889  0.313379   \ndivision          -0.078566       -0.571728       -0.638442 -0.170317   \nlexicon                 NaN             NaN             NaN       NaN   \nyear                    NaN             NaN             NaN       NaN   \n\n                    round  division  lexicon  year  \ngameid           0.057056  0.626632      NaN   NaN  \ntourneyid       -0.155245  0.034172      NaN   NaN  \ntie              0.003101 -0.006544      NaN   NaN  \nwinnerid        -0.067125  0.246841      NaN   NaN  \nwinnerscore      0.038221 -0.078595      NaN   NaN  \nwinneroldrating  0.110590 -0.609908      NaN   NaN  \nwinnernewrating  0.112238 -0.659330      NaN   NaN  \nwinnerpos        0.322588 -0.159694      NaN   NaN  \nloserid         -0.091991  0.242270      NaN   NaN  \nloserscore       0.038564 -0.078566      NaN   NaN  \nloseroldrating   0.135149 -0.571728      NaN   NaN  \nlosernewrating   0.140889 -0.638442      NaN   NaN  \nloserpos         0.313379 -0.170317      NaN   NaN  \nround            1.000000 -0.077866      NaN   NaN  \ndivision        -0.077866  1.000000      NaN   NaN  \nlexicon               NaN       NaN      NaN   NaN  \nyear                  NaN       NaN      NaN   NaN  ",
      "text/html": "<div>\n<style scoped>\n    .dataframe tbody tr th:only-of-type {\n        vertical-align: middle;\n    }\n\n    .dataframe tbody tr th {\n        vertical-align: top;\n    }\n\n    .dataframe thead th {\n        text-align: right;\n    }\n</style>\n<table border=\"1\" class=\"dataframe\">\n  <thead>\n    <tr style=\"text-align: right;\">\n      <th></th>\n      <th>gameid</th>\n      <th>tourneyid</th>\n      <th>tie</th>\n      <th>winnerid</th>\n      <th>winnerscore</th>\n      <th>winneroldrating</th>\n      <th>winnernewrating</th>\n      <th>winnerpos</th>\n      <th>loserid</th>\n      <th>loserscore</th>\n      <th>loseroldrating</th>\n      <th>losernewrating</th>\n      <th>loserpos</th>\n      <th>round</th>\n      <th>division</th>\n      <th>lexicon</th>\n      <th>year</th>\n    </tr>\n  </thead>\n  <tbody>\n    <tr>\n      <th>gameid</th>\n      <td>1.000000</td>\n      <td>0.027739</td>\n      <td>0.011730</td>\n      <td>0.226863</td>\n      <td>-0.076119</td>\n      <td>-0.565785</td>\n      <td>-0.623378</td>\n      <td>0.026757</td>\n      <td>0.250447</td>\n      <td>-0.075867</td>\n      <td>-0.554665</td>\n      <td>-0.612148</td>\n      <td>0.031006</td>\n      <td>0.057056</td>\n      <td>0.626632</td>\n      <td>NaN</td>\n      <td>NaN</td>\n    </tr>\n    <tr>\n      <th>tourneyid</th>\n      <td>0.027739</td>\n      <td>1.000000</td>\n      <td>0.001295</td>\n      <td>0.039115</td>\n      <td>0.017727</td>\n      <td>-0.063566</td>\n      <td>-0.022334</td>\n      <td>-0.155506</td>\n      <td>0.052486</td>\n      <td>0.018043</td>\n      <td>-0.055418</td>\n      <td>-0.012234</td>\n      <td>-0.174694</td>\n      <td>-0.155245</td>\n      <td>0.034172</td>\n      <td>NaN</td>\n      <td>NaN</td>\n    </tr>\n    <tr>\n      <th>tie</th>\n      <td>0.011730</td>\n      <td>0.001295</td>\n      <td>1.000000</td>\n      <td>-0.018818</td>\n      <td>-0.002352</td>\n      <td>0.004529</td>\n      <td>-0.000327</td>\n      <td>0.011076</td>\n      <td>0.012602</td>\n      <td>-0.001386</td>\n      <td>0.005514</td>\n      <td>0.008880</td>\n      <td>-0.002666</td>\n      <td>0.003101</td>\n      <td>-0.006544</td>\n      <td>NaN</td>\n      <td>NaN</td>\n    </tr>\n    <tr>\n      <th>winnerid</th>\n      <td>0.226863</td>\n      <td>0.039115</td>\n      <td>-0.018818</td>\n      <td>1.000000</td>\n      <td>-0.045205</td>\n      <td>-0.423279</td>\n      <td>-0.369051</td>\n      <td>0.026496</td>\n      <td>0.190702</td>\n      <td>-0.045269</td>\n      <td>-0.340001</td>\n      <td>-0.341927</td>\n      <td>-0.011044</td>\n      <td>-0.067125</td>\n      <td>0.246841</td>\n      <td>NaN</td>\n      <td>NaN</td>\n    </tr>\n    <tr>\n      <th>winnerscore</th>\n      <td>-0.076119</td>\n      <td>0.017727</td>\n      <td>-0.002352</td>\n      <td>-0.045205</td>\n      <td>1.000000</td>\n      <td>0.095746</td>\n      <td>0.075334</td>\n      <td>0.005435</td>\n      <td>-0.043951</td>\n      <td>0.985757</td>\n      <td>0.089424</td>\n      <td>0.075328</td>\n      <td>0.011664</td>\n      <td>0.038221</td>\n      <td>-0.078595</td>\n      <td>NaN</td>\n      <td>NaN</td>\n    </tr>\n    <tr>\n      <th>winneroldrating</th>\n      <td>-0.565785</td>\n      <td>-0.063566</td>\n      <td>0.004529</td>\n      <td>-0.423279</td>\n      <td>0.095746</td>\n      <td>1.000000</td>\n      <td>0.836087</td>\n      <td>0.016586</td>\n      <td>-0.352453</td>\n      <td>0.095344</td>\n      <td>0.740348</td>\n      <td>0.775428</td>\n      <td>0.066683</td>\n      <td>0.110590</td>\n      <td>-0.609908</td>\n      <td>NaN</td>\n      <td>NaN</td>\n    </tr>\n    <tr>\n      <th>winnernewrating</th>\n      <td>-0.623378</td>\n      <td>-0.022334</td>\n      <td>-0.000327</td>\n      <td>-0.369051</td>\n      <td>0.075334</td>\n      <td>0.836087</td>\n      <td>1.000000</td>\n      <td>0.014694</td>\n      <td>-0.359309</td>\n      <td>0.074872</td>\n      <td>0.771732</td>\n      <td>0.892553</td>\n      <td>0.092622</td>\n      <td>0.112238</td>\n      <td>-0.659330</td>\n      <td>NaN</td>\n      <td>NaN</td>\n    </tr>\n    <tr>\n      <th>winnerpos</th>\n      <td>0.026757</td>\n      <td>-0.155506</td>\n      <td>0.011076</td>\n      <td>0.026496</td>\n      <td>0.005435</td>\n      <td>0.016586</td>\n      <td>0.014694</td>\n      <td>1.000000</td>\n      <td>-0.005181</td>\n      <td>0.006901</td>\n      <td>0.048060</td>\n      <td>0.088034</td>\n      <td>0.772008</td>\n      <td>0.322588</td>\n      <td>-0.159694</td>\n      <td>NaN</td>\n      <td>NaN</td>\n    </tr>\n    <tr>\n      <th>loserid</th>\n      <td>0.250447</td>\n      <td>0.052486</td>\n      <td>0.012602</td>\n      <td>0.190702</td>\n      <td>-0.043951</td>\n      <td>-0.352453</td>\n      <td>-0.359309</td>\n      <td>-0.005181</td>\n      <td>1.000000</td>\n      <td>-0.044019</td>\n      <td>-0.467082</td>\n      <td>-0.405584</td>\n      <td>0.025844</td>\n      <td>-0.091991</td>\n      <td>0.242270</td>\n      <td>NaN</td>\n      <td>NaN</td>\n    </tr>\n    <tr>\n      <th>loserscore</th>\n      <td>-0.075867</td>\n      <td>0.018043</td>\n      <td>-0.001386</td>\n      <td>-0.045269</td>\n      <td>0.985757</td>\n      <td>0.095344</td>\n      <td>0.074872</td>\n      <td>0.006901</td>\n      <td>-0.044019</td>\n      <td>1.000000</td>\n      <td>0.090858</td>\n      <td>0.076116</td>\n      <td>0.010405</td>\n      <td>0.038564</td>\n      <td>-0.078566</td>\n      <td>NaN</td>\n      <td>NaN</td>\n    </tr>\n    <tr>\n      <th>loseroldrating</th>\n      <td>-0.554665</td>\n      <td>-0.055418</td>\n      <td>0.005514</td>\n      <td>-0.340001</td>\n      <td>0.089424</td>\n      <td>0.740348</td>\n      <td>0.771732</td>\n      <td>0.048060</td>\n      <td>-0.467082</td>\n      <td>0.090858</td>\n      <td>1.000000</td>\n      <td>0.858149</td>\n      <td>0.003083</td>\n      <td>0.135149</td>\n      <td>-0.571728</td>\n      <td>NaN</td>\n      <td>NaN</td>\n    </tr>\n    <tr>\n      <th>losernewrating</th>\n      <td>-0.612148</td>\n      <td>-0.012234</td>\n      <td>0.008880</td>\n      <td>-0.341927</td>\n      <td>0.075328</td>\n      <td>0.775428</td>\n      <td>0.892553</td>\n      <td>0.088034</td>\n      <td>-0.405584</td>\n      <td>0.076116</td>\n      <td>0.858149</td>\n      <td>1.000000</td>\n      <td>0.028596</td>\n      <td>0.140889</td>\n      <td>-0.638442</td>\n      <td>NaN</td>\n      <td>NaN</td>\n    </tr>\n    <tr>\n      <th>loserpos</th>\n      <td>0.031006</td>\n      <td>-0.174694</td>\n      <td>-0.002666</td>\n      <td>-0.011044</td>\n      <td>0.011664</td>\n      <td>0.066683</td>\n      <td>0.092622</td>\n      <td>0.772008</td>\n      <td>0.025844</td>\n      <td>0.010405</td>\n      <td>0.003083</td>\n      <td>0.028596</td>\n      <td>1.000000</td>\n      <td>0.313379</td>\n      <td>-0.170317</td>\n      <td>NaN</td>\n      <td>NaN</td>\n    </tr>\n    <tr>\n      <th>round</th>\n      <td>0.057056</td>\n      <td>-0.155245</td>\n      <td>0.003101</td>\n      <td>-0.067125</td>\n      <td>0.038221</td>\n      <td>0.110590</td>\n      <td>0.112238</td>\n      <td>0.322588</td>\n      <td>-0.091991</td>\n      <td>0.038564</td>\n      <td>0.135149</td>\n      <td>0.140889</td>\n      <td>0.313379</td>\n      <td>1.000000</td>\n      <td>-0.077866</td>\n      <td>NaN</td>\n      <td>NaN</td>\n    </tr>\n    <tr>\n      <th>division</th>\n      <td>0.626632</td>\n      <td>0.034172</td>\n      <td>-0.006544</td>\n      <td>0.246841</td>\n      <td>-0.078595</td>\n      <td>-0.609908</td>\n      <td>-0.659330</td>\n      <td>-0.159694</td>\n      <td>0.242270</td>\n      <td>-0.078566</td>\n      <td>-0.571728</td>\n      <td>-0.638442</td>\n      <td>-0.170317</td>\n      <td>-0.077866</td>\n      <td>1.000000</td>\n      <td>NaN</td>\n      <td>NaN</td>\n    </tr>\n    <tr>\n      <th>lexicon</th>\n      <td>NaN</td>\n      <td>NaN</td>\n      <td>NaN</td>\n      <td>NaN</td>\n      <td>NaN</td>\n      <td>NaN</td>\n      <td>NaN</td>\n      <td>NaN</td>\n      <td>NaN</td>\n      <td>NaN</td>\n      <td>NaN</td>\n      <td>NaN</td>\n      <td>NaN</td>\n      <td>NaN</td>\n      <td>NaN</td>\n      <td>NaN</td>\n      <td>NaN</td>\n    </tr>\n    <tr>\n      <th>year</th>\n      <td>NaN</td>\n      <td>NaN</td>\n      <td>NaN</td>\n      <td>NaN</td>\n      <td>NaN</td>\n      <td>NaN</td>\n      <td>NaN</td>\n      <td>NaN</td>\n      <td>NaN</td>\n      <td>NaN</td>\n      <td>NaN</td>\n      <td>NaN</td>\n      <td>NaN</td>\n      <td>NaN</td>\n      <td>NaN</td>\n      <td>NaN</td>\n      <td>NaN</td>\n    </tr>\n  </tbody>\n</table>\n</div>"
     },
     "execution_count": 20,
     "metadata": {},
     "output_type": "execute_result"
    }
   ],
   "source": [
    "data.corr()"
   ],
   "metadata": {
    "collapsed": false
   }
  },
  {
   "cell_type": "markdown",
   "source": [
    "Выберите только первые раунды турнира, сгруппируйте датафрейм по переменной tourneyid, затем рассчитайте коэффициент корреляции между переменными winnerscore и loserscore. Введите ответ в виде десятичной дроби, до двух знаков после запятой (например, 0.29); если связь обратная, не забудьте указать минус перед числом."
   ],
   "metadata": {
    "collapsed": false
   }
  },
  {
   "cell_type": "code",
   "execution_count": 27,
   "outputs": [
    {
     "data": {
      "text/plain": "             winnerscore  loserscore\nwinnerscore     1.000000   -0.191433\nloserscore     -0.191433    1.000000",
      "text/html": "<div>\n<style scoped>\n    .dataframe tbody tr th:only-of-type {\n        vertical-align: middle;\n    }\n\n    .dataframe tbody tr th {\n        vertical-align: top;\n    }\n\n    .dataframe thead th {\n        text-align: right;\n    }\n</style>\n<table border=\"1\" class=\"dataframe\">\n  <thead>\n    <tr style=\"text-align: right;\">\n      <th></th>\n      <th>winnerscore</th>\n      <th>loserscore</th>\n    </tr>\n  </thead>\n  <tbody>\n    <tr>\n      <th>winnerscore</th>\n      <td>1.000000</td>\n      <td>-0.191433</td>\n    </tr>\n    <tr>\n      <th>loserscore</th>\n      <td>-0.191433</td>\n      <td>1.000000</td>\n    </tr>\n  </tbody>\n</table>\n</div>"
     },
     "execution_count": 27,
     "metadata": {},
     "output_type": "execute_result"
    }
   ],
   "source": [
    "n = data[(data['round'] ==1) & (data.winnerscore.notnull())&(data.loserscore.notnull())].groupby('tourneyid')[['winnerscore','loserscore']]\n",
    "n.corr().corr()"
   ],
   "metadata": {
    "collapsed": false
   }
  },
  {
   "cell_type": "markdown",
   "source": [
    "Укажите, верно ли следующее утверждение: переменная tie не влияет на характер взаимосвязи между переменными winnernewrating и losernewrating. Сгруппируйте датафрейм по переменной tourneyid, затем рассчитайте коэффициент корреляции между средними значениями указанных переменных."
   ],
   "metadata": {
    "collapsed": false
   }
  },
  {
   "cell_type": "code",
   "execution_count": 28,
   "outputs": [
    {
     "data": {
      "text/plain": "                 losernewrating  winnernewrating       tie\nlosernewrating         1.000000         0.978357  0.162001\nwinnernewrating        0.978357         1.000000  0.167036\ntie                    0.162001         0.167036  1.000000",
      "text/html": "<div>\n<style scoped>\n    .dataframe tbody tr th:only-of-type {\n        vertical-align: middle;\n    }\n\n    .dataframe tbody tr th {\n        vertical-align: top;\n    }\n\n    .dataframe thead th {\n        text-align: right;\n    }\n</style>\n<table border=\"1\" class=\"dataframe\">\n  <thead>\n    <tr style=\"text-align: right;\">\n      <th></th>\n      <th>losernewrating</th>\n      <th>winnernewrating</th>\n      <th>tie</th>\n    </tr>\n  </thead>\n  <tbody>\n    <tr>\n      <th>losernewrating</th>\n      <td>1.000000</td>\n      <td>0.978357</td>\n      <td>0.162001</td>\n    </tr>\n    <tr>\n      <th>winnernewrating</th>\n      <td>0.978357</td>\n      <td>1.000000</td>\n      <td>0.167036</td>\n    </tr>\n    <tr>\n      <th>tie</th>\n      <td>0.162001</td>\n      <td>0.167036</td>\n      <td>1.000000</td>\n    </tr>\n  </tbody>\n</table>\n</div>"
     },
     "execution_count": 28,
     "metadata": {},
     "output_type": "execute_result"
    }
   ],
   "source": [
    "corr_tie = data.groupby('tourneyid')[['losernewrating','winnernewrating','tie']].mean()\n",
    "corr_tie.corr()"
   ],
   "metadata": {
    "collapsed": false
   }
  },
  {
   "cell_type": "markdown",
   "source": [
    "Выберите самого часто встречающегося победителя (столбец winnername). Сгруппируйте датафрейм по переменной tourneyid, затем рассчитайте коэффициент корреляции между средними значениями переменных winnerscore и winneroldrating. Введите ответ в виде десятичной дроби, округлите до двух знаков после запятой; если связь обратная, не забудьте указать минус перед числом."
   ],
   "metadata": {
    "collapsed": false
   }
  },
  {
   "cell_type": "code",
   "execution_count": 37,
   "outputs": [
    {
     "data": {
      "text/plain": "                 winnerscore  winneroldrating\nwinnerscore         1.000000         0.052294\nwinneroldrating     0.052294         1.000000",
      "text/html": "<div>\n<style scoped>\n    .dataframe tbody tr th:only-of-type {\n        vertical-align: middle;\n    }\n\n    .dataframe tbody tr th {\n        vertical-align: top;\n    }\n\n    .dataframe thead th {\n        text-align: right;\n    }\n</style>\n<table border=\"1\" class=\"dataframe\">\n  <thead>\n    <tr style=\"text-align: right;\">\n      <th></th>\n      <th>winnerscore</th>\n      <th>winneroldrating</th>\n    </tr>\n  </thead>\n  <tbody>\n    <tr>\n      <th>winnerscore</th>\n      <td>1.000000</td>\n      <td>0.052294</td>\n    </tr>\n    <tr>\n      <th>winneroldrating</th>\n      <td>0.052294</td>\n      <td>1.000000</td>\n    </tr>\n  </tbody>\n</table>\n</div>"
     },
     "execution_count": 37,
     "metadata": {},
     "output_type": "execute_result"
    }
   ],
   "source": [
    "c = dict(data.winnername.value_counts())\n",
    "data[data['winnername']==list(c.keys())[0]].groupby('tourneyid')[['winnerscore','winneroldrating']].mean().corr()\n"
   ],
   "metadata": {
    "collapsed": false
   }
  },
  {
   "cell_type": "markdown",
   "source": [
    "Укажите, верно ли следующее утверждение: характер взаимосвязи (прямая или обратная) между средними значениями переменных winnerscore и winneroldrating для победителя по имени Lester Schonbrun не отличается для такого же показателя для победителя по имени Stuart Goldman. Сгруппируйте датафрейм по переменной tourneyid, затем рассчитайте коэффициент корреляции между средними значениями указанных переменных."
   ],
   "metadata": {
    "collapsed": false
   }
  },
  {
   "cell_type": "code",
   "execution_count": 40,
   "outputs": [
    {
     "data": {
      "text/plain": "                 winnerscore  winneroldrating\nwinnerscore         1.000000        -0.498531\nwinneroldrating    -0.498531         1.000000",
      "text/html": "<div>\n<style scoped>\n    .dataframe tbody tr th:only-of-type {\n        vertical-align: middle;\n    }\n\n    .dataframe tbody tr th {\n        vertical-align: top;\n    }\n\n    .dataframe thead th {\n        text-align: right;\n    }\n</style>\n<table border=\"1\" class=\"dataframe\">\n  <thead>\n    <tr style=\"text-align: right;\">\n      <th></th>\n      <th>winnerscore</th>\n      <th>winneroldrating</th>\n    </tr>\n  </thead>\n  <tbody>\n    <tr>\n      <th>winnerscore</th>\n      <td>1.000000</td>\n      <td>-0.498531</td>\n    </tr>\n    <tr>\n      <th>winneroldrating</th>\n      <td>-0.498531</td>\n      <td>1.000000</td>\n    </tr>\n  </tbody>\n</table>\n</div>"
     },
     "execution_count": 40,
     "metadata": {},
     "output_type": "execute_result"
    }
   ],
   "source": [
    "data[data['winnername'] =='Lester Schonbrun'].groupby('tourneyid')[['winnerscore','winneroldrating']].mean().corr(),\n",
    "data[data['winnername'] =='Stuart Goldman'].groupby('tourneyid')[['winnerscore','winneroldrating']].mean().corr()"
   ],
   "metadata": {
    "collapsed": false
   }
  },
  {
   "cell_type": "markdown",
   "source": [
    "Выберите данные только за 4376 турнир (переменная tourneyid). Рассчитайте коэффициент корреляции между переменными winnerscore и loserscore. Введите ответ в виде десятичной дроби, округлите до двух знаков после запятой; если связь обратная, не забудьте указать минус перед числом."
   ],
   "metadata": {
    "collapsed": false
   }
  },
  {
   "cell_type": "code",
   "execution_count": 41,
   "outputs": [
    {
     "data": {
      "text/plain": "             winnerscore  loserscore\nwinnerscore     1.000000   -0.249001\nloserscore     -0.249001    1.000000",
      "text/html": "<div>\n<style scoped>\n    .dataframe tbody tr th:only-of-type {\n        vertical-align: middle;\n    }\n\n    .dataframe tbody tr th {\n        vertical-align: top;\n    }\n\n    .dataframe thead th {\n        text-align: right;\n    }\n</style>\n<table border=\"1\" class=\"dataframe\">\n  <thead>\n    <tr style=\"text-align: right;\">\n      <th></th>\n      <th>winnerscore</th>\n      <th>loserscore</th>\n    </tr>\n  </thead>\n  <tbody>\n    <tr>\n      <th>winnerscore</th>\n      <td>1.000000</td>\n      <td>-0.249001</td>\n    </tr>\n    <tr>\n      <th>loserscore</th>\n      <td>-0.249001</td>\n      <td>1.000000</td>\n    </tr>\n  </tbody>\n</table>\n</div>"
     },
     "execution_count": 41,
     "metadata": {},
     "output_type": "execute_result"
    }
   ],
   "source": [
    "data[data['tourneyid'] == 4376][['winnerscore','loserscore']].corr()"
   ],
   "metadata": {
    "collapsed": false
   }
  },
  {
   "cell_type": "code",
   "execution_count": null,
   "outputs": [],
   "source": [],
   "metadata": {
    "collapsed": false
   }
  }
 ],
 "metadata": {
  "kernelspec": {
   "display_name": "Python 3",
   "language": "python",
   "name": "python3"
  },
  "language_info": {
   "codemirror_mode": {
    "name": "ipython",
    "version": 2
   },
   "file_extension": ".py",
   "mimetype": "text/x-python",
   "name": "python",
   "nbconvert_exporter": "python",
   "pygments_lexer": "ipython2",
   "version": "2.7.6"
  }
 },
 "nbformat": 4,
 "nbformat_minor": 0
}
