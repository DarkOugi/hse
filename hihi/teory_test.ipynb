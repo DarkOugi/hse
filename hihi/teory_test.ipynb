{
 "cells": [
  {
   "cell_type": "markdown",
   "source": [
    "# Отработка Хи квадрат\n",
    "\n",
    "# Отличие хи квадрата Пирсона от той же корреляции - корреляция это линейная зависимость между данными  не категориальными !!!\n",
    "# Хи квадрат позволяет находить взаимосвязь между категориальными данными"
   ],
   "metadata": {
    "collapsed": false
   }
  },
  {
   "cell_type": "code",
   "execution_count": 36,
   "metadata": {
    "collapsed": true
   },
   "outputs": [],
   "source": [
    "import pandas as pd\n",
    "import numpy as np\n",
    "from scipy.stats import chi2_contingency as stats"
   ]
  },
  {
   "cell_type": "markdown",
   "source": [
    "Описание данных\n",
    "– respondentID — идентификационный номер респондента\n",
    "– seen — ответ на вопрос, видел ли респондент хотя бы один фильм из серии «Звездных войн» (да/нет)\n",
    "– fan — ответ на вопрос, считает ли респондент себя фанатом серии фильмов (да/нет)\n",
    "– gender — пол респондента (М/Ж)\n",
    "– age_group — возрастная группа, к которой принадлежит респондент (18-29, 30-44, 45-60, > 60)\n",
    "– income — доход респондента в долларах США (0 - 24.999, 25.000 - 49.999, 50.000 - 99.999, 100.000 - 149.999, 150.000+)\n",
    "– loc — регион проживания респондента (в США)\n",
    "– yoda — отношение респондента к персонажу серии (Йоде)\n",
    "– princess_leia_organa — отношение респондента к персонажу серии (принцессе Лее Органе)"
   ],
   "metadata": {
    "collapsed": false
   }
  },
  {
   "cell_type": "code",
   "execution_count": 9,
   "outputs": [
    {
     "data": {
      "text/plain": "   respondentID seen  fan gender age_group             income  \\\n0    3292879998   да   да      М     18-29                NaN   \n1    3292879538  нет  NaN      М     18-29         0 - 24.999   \n2    3292765271   да  нет      М     18-29         0 - 24.999   \n3    3292763116   да   да      М     18-29  100.000 - 149.999   \n4    3292731220   да   да      М     18-29  100.000 - 149.999   \n\n                           loc                      yoda princess_leia_organa  \n0           Южно-Атлантический            очень нравится       очень нравится  \n1     Юго-Западный центральный                       NaN                  NaN  \n2  Северо-Западный центральный  не знаю такого персонажа             нравится  \n3  Северо-Западный центральный            очень нравится       очень нравится  \n4  Северо-Западный центральный                  нравится             нравится  ",
      "text/html": "<div>\n<style scoped>\n    .dataframe tbody tr th:only-of-type {\n        vertical-align: middle;\n    }\n\n    .dataframe tbody tr th {\n        vertical-align: top;\n    }\n\n    .dataframe thead th {\n        text-align: right;\n    }\n</style>\n<table border=\"1\" class=\"dataframe\">\n  <thead>\n    <tr style=\"text-align: right;\">\n      <th></th>\n      <th>respondentID</th>\n      <th>seen</th>\n      <th>fan</th>\n      <th>gender</th>\n      <th>age_group</th>\n      <th>income</th>\n      <th>loc</th>\n      <th>yoda</th>\n      <th>princess_leia_organa</th>\n    </tr>\n  </thead>\n  <tbody>\n    <tr>\n      <th>0</th>\n      <td>3292879998</td>\n      <td>да</td>\n      <td>да</td>\n      <td>М</td>\n      <td>18-29</td>\n      <td>NaN</td>\n      <td>Южно-Атлантический</td>\n      <td>очень нравится</td>\n      <td>очень нравится</td>\n    </tr>\n    <tr>\n      <th>1</th>\n      <td>3292879538</td>\n      <td>нет</td>\n      <td>NaN</td>\n      <td>М</td>\n      <td>18-29</td>\n      <td>0 - 24.999</td>\n      <td>Юго-Западный центральный</td>\n      <td>NaN</td>\n      <td>NaN</td>\n    </tr>\n    <tr>\n      <th>2</th>\n      <td>3292765271</td>\n      <td>да</td>\n      <td>нет</td>\n      <td>М</td>\n      <td>18-29</td>\n      <td>0 - 24.999</td>\n      <td>Северо-Западный центральный</td>\n      <td>не знаю такого персонажа</td>\n      <td>нравится</td>\n    </tr>\n    <tr>\n      <th>3</th>\n      <td>3292763116</td>\n      <td>да</td>\n      <td>да</td>\n      <td>М</td>\n      <td>18-29</td>\n      <td>100.000 - 149.999</td>\n      <td>Северо-Западный центральный</td>\n      <td>очень нравится</td>\n      <td>очень нравится</td>\n    </tr>\n    <tr>\n      <th>4</th>\n      <td>3292731220</td>\n      <td>да</td>\n      <td>да</td>\n      <td>М</td>\n      <td>18-29</td>\n      <td>100.000 - 149.999</td>\n      <td>Северо-Западный центральный</td>\n      <td>нравится</td>\n      <td>нравится</td>\n    </tr>\n  </tbody>\n</table>\n</div>"
     },
     "execution_count": 9,
     "metadata": {},
     "output_type": "execute_result"
    }
   ],
   "source": [
    "df = pd.read_csv(filepath_or_buffer='../dataSet/StarWars.csv', sep=';')\n",
    "df.head()"
   ],
   "metadata": {
    "collapsed": false
   }
  },
  {
   "cell_type": "code",
   "execution_count": 10,
   "outputs": [
    {
     "name": "stdout",
     "output_type": "stream",
     "text": [
      "<class 'pandas.core.frame.DataFrame'>\n",
      "RangeIndex: 1186 entries, 0 to 1185\n",
      "Data columns (total 9 columns):\n",
      " #   Column                Non-Null Count  Dtype \n",
      "---  ------                --------------  ----- \n",
      " 0   respondentID          1186 non-null   int64 \n",
      " 1   seen                  1186 non-null   object\n",
      " 2   fan                   836 non-null    object\n",
      " 3   gender                1046 non-null   object\n",
      " 4   age_group             1046 non-null   object\n",
      " 5   income                858 non-null    object\n",
      " 6   loc                   1043 non-null   object\n",
      " 7   yoda                  826 non-null    object\n",
      " 8   princess_leia_organa  831 non-null    object\n",
      "dtypes: int64(1), object(8)\n",
      "memory usage: 83.5+ KB\n"
     ]
    }
   ],
   "source": [
    "df.info()"
   ],
   "metadata": {
    "collapsed": false
   }
  },
  {
   "cell_type": "markdown",
   "source": [
    "1 Задание построить таблицу сопряженности для переменных gender, fan"
   ],
   "metadata": {
    "collapsed": false
   }
  },
  {
   "cell_type": "code",
   "execution_count": 16,
   "outputs": [
    {
     "data": {
      "text/plain": "fan      да  нет\ngender          \nЖ       238  159\nМ       303  120",
      "text/html": "<div>\n<style scoped>\n    .dataframe tbody tr th:only-of-type {\n        vertical-align: middle;\n    }\n\n    .dataframe tbody tr th {\n        vertical-align: top;\n    }\n\n    .dataframe thead th {\n        text-align: right;\n    }\n</style>\n<table border=\"1\" class=\"dataframe\">\n  <thead>\n    <tr style=\"text-align: right;\">\n      <th>fan</th>\n      <th>да</th>\n      <th>нет</th>\n    </tr>\n    <tr>\n      <th>gender</th>\n      <th></th>\n      <th></th>\n    </tr>\n  </thead>\n  <tbody>\n    <tr>\n      <th>Ж</th>\n      <td>238</td>\n      <td>159</td>\n    </tr>\n    <tr>\n      <th>М</th>\n      <td>303</td>\n      <td>120</td>\n    </tr>\n  </tbody>\n</table>\n</div>"
     },
     "execution_count": 16,
     "metadata": {},
     "output_type": "execute_result"
    }
   ],
   "source": [
    "df_gender_fan = df[(df['gender'].notnull()) & (df['fan'].notnull())].groupby('gender')['fan'].value_counts().unstack()\n",
    "df_gender_fan"
   ],
   "metadata": {
    "collapsed": false
   }
  },
  {
   "cell_type": "markdown",
   "source": [
    "Укажите, верно ли следующее утверждение: 120 мужчин являются фанатами серии фильмов «Звездные войны»."
   ],
   "metadata": {
    "collapsed": false
   }
  },
  {
   "cell_type": "code",
   "execution_count": 18,
   "outputs": [
    {
     "data": {
      "text/plain": "False"
     },
     "execution_count": 18,
     "metadata": {},
     "output_type": "execute_result"
    }
   ],
   "source": [
    "df_gender_fan['да'].iloc[1] == 120"
   ],
   "metadata": {
    "collapsed": false
   }
  },
  {
   "cell_type": "markdown",
   "source": [
    "Предположим, что мы тестируем гипотезу о том, что распределение наблюдений по категориям выбранных нами переменных независимо. Чему будет равно количество степеней свободы, рассчитанное по построенной в предыдущем задании таблице сопряженности? Выберите один верный ответ.\n",
    "формула = (столбцов -1 ) * (строк - 1)"
   ],
   "metadata": {
    "collapsed": false
   }
  },
  {
   "cell_type": "code",
   "execution_count": 22,
   "outputs": [
    {
     "data": {
      "text/plain": "1"
     },
     "execution_count": 22,
     "metadata": {},
     "output_type": "execute_result"
    }
   ],
   "source": [
    "(df_gender_fan.columns.size - 1) * (df_gender_fan.index.size - 1)"
   ],
   "metadata": {
    "collapsed": false
   }
  },
  {
   "cell_type": "markdown",
   "source": [
    "Чему равна оценка вероятности того, что человек является фанатом серии фильмов? Введите ответ в виде десятичной дроби, округлите до двух знаков после запятой."
   ],
   "metadata": {
    "collapsed": false
   }
  },
  {
   "cell_type": "code",
   "execution_count": 27,
   "outputs": [
    {
     "data": {
      "text/plain": "'0.66'"
     },
     "execution_count": 27,
     "metadata": {},
     "output_type": "execute_result"
    }
   ],
   "source": [
    "df_1 = df[(df['gender'].notnull()) & (df['fan'].notnull())]\n",
    "fan_starWars = f'''{df_1[df_1['fan'] == 'да'].gender.size / df_1.gender.size:.2f}'''\n",
    "fan_starWars"
   ],
   "metadata": {
    "collapsed": false
   }
  },
  {
   "cell_type": "markdown",
   "source": [
    "Чему равна теоретическая частота для женщин, которые являются фанатами серии фильмов? В ответ запишите число, округлите до целого."
   ],
   "metadata": {
    "collapsed": false
   }
  },
  {
   "cell_type": "code",
   "execution_count": 41,
   "outputs": [
    {
     "data": {
      "text/plain": "(12.449350493035466,\n 0.00041813719910750865,\n 1,\n array([[261.92317073, 135.07682927],\n        [279.07682927, 143.92317073]]))"
     },
     "execution_count": 41,
     "metadata": {},
     "output_type": "execute_result"
    }
   ],
   "source": [
    "# воспользуемся scipy\n",
    "hi = stats(df_gender_fan,correction=False)\n",
    "hi"
   ],
   "metadata": {
    "collapsed": false
   }
  },
  {
   "cell_type": "code",
   "execution_count": 37,
   "outputs": [
    {
     "data": {
      "text/plain": "array([[261.92317073, 135.07682927],\n       [279.07682927, 143.92317073]])"
     },
     "execution_count": 37,
     "metadata": {},
     "output_type": "execute_result"
    }
   ],
   "source": [
    "# попробуем посчитать сами\n",
    "\n",
    "# 1 шаг - вычисляем общее количество наблюдений\n",
    "total_human = df_gender_fan.sum().sum()\n",
    "# 2 шаг - общее количество фанатов/ не фанатов\n",
    "fans = df_gender_fan['да'].sum()\n",
    "not_fans = df_gender_fan['нет'].sum()\n",
    "# 3 шаг рассчитываем вероятность того, что человек является фанатом и не фанатом\n",
    "ver_fan = fans / total_human\n",
    "ver_not_fan = not_fans / total_human\n",
    "# 4 шаг посчитаем общее количество мужчин/женщин\n",
    "n_men = df_gender_fan.loc['М'].sum()\n",
    "n_women = df_gender_fan.loc['Ж'].sum()\n",
    "# 5 шаг подсчитаем вероятности и сделаем из них таблицу\n",
    "teoretical_ver_women_fan = n_women * ver_fan\n",
    "teoretical_ver_women_not_fan = n_women * ver_not_fan\n",
    "teoretical_ver_men_fan = n_men * ver_fan\n",
    "teoretical_ver_men_not_fan = n_men * ver_not_fan\n",
    "teor_arr = np.array([[teoretical_ver_women_fan,teoretical_ver_women_not_fan],[teoretical_ver_men_fan,teoretical_ver_men_not_fan]])\n",
    "teor_arr"
   ],
   "metadata": {
    "collapsed": false
   }
  },
  {
   "cell_type": "code",
   "execution_count": 40,
   "outputs": [
    {
     "data": {
      "text/plain": "12.449350493035455"
     },
     "execution_count": 40,
     "metadata": {},
     "output_type": "execute_result"
    }
   ],
   "source": [
    "# еще один способ подсчета частоты это умножать строку на столбец и делить на общее число людей, рассчитаем так частоту для фанатов женщин\n",
    "df_gender_fan.loc['Ж'].sum() * df_gender_fan['да'].sum()/ total_human\n",
    "# сам подсчет хи квадрата\n",
    "((teor_arr-df_gender_fan)**2/teor_arr).sum().sum()"
   ],
   "metadata": {
    "collapsed": false
   }
  },
  {
   "cell_type": "markdown",
   "source": [
    "Нулевую гипотезу мы отвергаем тк хи квадрат > уровня значимости в 5 %"
   ],
   "metadata": {
    "collapsed": false
   }
  },
  {
   "cell_type": "code",
   "execution_count": null,
   "outputs": [],
   "source": [],
   "metadata": {
    "collapsed": false
   }
  }
 ],
 "metadata": {
  "kernelspec": {
   "display_name": "Python 3",
   "language": "python",
   "name": "python3"
  },
  "language_info": {
   "codemirror_mode": {
    "name": "ipython",
    "version": 2
   },
   "file_extension": ".py",
   "mimetype": "text/x-python",
   "name": "python",
   "nbconvert_exporter": "python",
   "pygments_lexer": "ipython2",
   "version": "2.7.6"
  }
 },
 "nbformat": 4,
 "nbformat_minor": 0
}
